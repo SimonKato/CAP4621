{
  "nbformat": 4,
  "nbformat_minor": 0,
  "metadata": {
    "colab": {
      "name": "CAP4621 Discriminator",
      "provenance": [],
      "collapsed_sections": [],
      "include_colab_link": true
    },
    "kernelspec": {
      "name": "python3",
      "display_name": "Python 3"
    }
  },
  "cells": [
    {
      "cell_type": "markdown",
      "metadata": {
        "id": "view-in-github",
        "colab_type": "text"
      },
      "source": [
        "<a href=\"https://colab.research.google.com/github/SimonKato/CAP4621/blob/master/CAP4621_Discriminator.ipynb\" target=\"_parent\"><img src=\"https://colab.research.google.com/assets/colab-badge.svg\" alt=\"Open In Colab\"/></a>"
      ]
    },
    {
      "cell_type": "code",
      "metadata": {
        "id": "WmI5rgeXfy2U"
      },
      "source": [
        "# imports\n",
        "import tensorflow as tf\n",
        "from tensorflow.keras import layers,models\n",
        "import matplotlib.pyplot as plt\n",
        "import cv2\n",
        "from google.colab.patches import cv2_imshow\n",
        "import glob\n",
        "import random\n",
        "import numpy as np\n",
        "from sklearn.model_selection import train_test_split"
      ],
      "execution_count": 1,
      "outputs": []
    },
    {
      "cell_type": "code",
      "metadata": {
        "id": "_Icyz72-f99t",
        "colab": {
          "base_uri": "https://localhost:8080/"
        },
        "outputId": "9aa13c9c-9965-49b1-e224-aade9c75fa14"
      },
      "source": [
        "#load in data from our CycleGAN\n",
        "\n",
        "# mount drive : files are in /content/drive/MyDrive/CAP4621/demo/mask_cyclegan/test_latest/images\n",
        "from google.colab import drive\n",
        "drive.mount('/content/drive')"
      ],
      "execution_count": 2,
      "outputs": [
        {
          "output_type": "stream",
          "text": [
            "Mounted at /content/drive\n"
          ],
          "name": "stdout"
        }
      ]
    },
    {
      "cell_type": "code",
      "metadata": {
        "id": "bHzaTJ-QctVN"
      },
      "source": [
        "# need to generate:\n",
        "# train_images, test_images : [[img1],[img2]] <numpy.array <numpy.array>> (n,(256,512,3))\n",
        "# train_labels, test_labels: [[label],[label]] (n,1)"
      ],
      "execution_count": null,
      "outputs": []
    },
    {
      "cell_type": "code",
      "metadata": {
        "colab": {
          "base_uri": "https://localhost:8080/"
        },
        "id": "bJUKhFA6lQWP",
        "outputId": "47a946b6-f893-4f5b-afba-214ac6158877"
      },
      "source": [
        "# (real_unmasked, fake_masked) and (fake_unmasked,real_masked)\n",
        "fake_masked = glob.glob('/content/drive/MyDrive/CAP4621/new/results/mask_cyclegan_new/test_latest/images/*fake_B.png')\n",
        "# real_masked = glob.glob('/content/drive/MyDrive/CAP4621/demo/mask_cyclegan/test_latest/images/*real_B.png')\n",
        "# fake_unmasked = glob.glob('/content/drive/MyDrive/CAP4621/demo/mask_cyclegan/test_latest/images/*fake_A.png')\n",
        "real_unmasked = glob.glob('/content/drive/MyDrive/CAP4621/new/results/mask_cyclegan_new/test_latest/images/*real_A.png')\n",
        "print(\"Fake Masked \", fake_masked)\n",
        "# print(\"Real Masked \",real_masked)\n",
        "# print(\"Fake Unmasked\",fake_unmasked)\n",
        "print(\"Real Unmasked\",real_unmasked)"
      ],
      "execution_count": 3,
      "outputs": [
        {
          "output_type": "stream",
          "text": [
            "Fake Masked  ['/content/drive/MyDrive/CAP4621/new/results/mask_cyclegan_new/test_latest/images/0_0_chenderong_0009_fake_B.png', '/content/drive/MyDrive/CAP4621/new/results/mask_cyclegan_new/test_latest/images/0_0_chenxuedong_0017_fake_B.png', '/content/drive/MyDrive/CAP4621/new/results/mask_cyclegan_new/test_latest/images/0_0_dengziqi_0067_fake_B.png', '/content/drive/MyDrive/CAP4621/new/results/mask_cyclegan_new/test_latest/images/0_0_dongxuan_0206_fake_B.png', '/content/drive/MyDrive/CAP4621/new/results/mask_cyclegan_new/test_latest/images/0_0_duhaitao_0164_fake_B.png', '/content/drive/MyDrive/CAP4621/new/results/mask_cyclegan_new/test_latest/images/0_0_fanganna_0085_fake_B.png', '/content/drive/MyDrive/CAP4621/new/results/mask_cyclegan_new/test_latest/images/0_0_fanyichen_0072_fake_B.png', '/content/drive/MyDrive/CAP4621/new/results/mask_cyclegan_new/test_latest/images/0_0_fanyichen_0078_fake_B.png', '/content/drive/MyDrive/CAP4621/new/results/mask_cyclegan_new/test_latest/images/0_0_fanyichen_0099_fake_B.png', '/content/drive/MyDrive/CAP4621/new/results/mask_cyclegan_new/test_latest/images/0_0_fengjianyu_0059_fake_B.png', '/content/drive/MyDrive/CAP4621/new/results/mask_cyclegan_new/test_latest/images/0_0_zhanghuiwen_0206_fake_B.png', '/content/drive/MyDrive/CAP4621/new/results/mask_cyclegan_new/test_latest/images/1_0_chenxinyu_0015_fake_B.png', '/content/drive/MyDrive/CAP4621/new/results/mask_cyclegan_new/test_latest/images/1_0_daipeini_0009_fake_B.png', '/content/drive/MyDrive/CAP4621/new/results/mask_cyclegan_new/test_latest/images/1_0_dongjie_0001_fake_B.png', '/content/drive/MyDrive/CAP4621/new/results/mask_cyclegan_new/test_latest/images/1_0_ganwei_0001_fake_B.png', '/content/drive/MyDrive/CAP4621/new/results/mask_cyclegan_new/test_latest/images/1_0_xujinglei_0008_fake_B.png', '/content/drive/MyDrive/CAP4621/new/results/mask_cyclegan_new/test_latest/images/1_0_yufeng_0026_fake_B.png', '/content/drive/MyDrive/CAP4621/new/results/mask_cyclegan_new/test_latest/images/1_0_yufeng_0039_fake_B.png', '/content/drive/MyDrive/CAP4621/new/results/mask_cyclegan_new/test_latest/images/1_0_yufeng_0105_fake_B.png', '/content/drive/MyDrive/CAP4621/new/results/mask_cyclegan_new/test_latest/images/1_0_yufeng_0155_fake_B.png', '/content/drive/MyDrive/CAP4621/new/results/mask_cyclegan_new/test_latest/images/1_0_zhanghuiwen_0040_fake_B.png']\n",
            "Real Unmasked ['/content/drive/MyDrive/CAP4621/new/results/mask_cyclegan_new/test_latest/images/0_0_chenderong_0009_real_A.png', '/content/drive/MyDrive/CAP4621/new/results/mask_cyclegan_new/test_latest/images/0_0_chenxuedong_0017_real_A.png', '/content/drive/MyDrive/CAP4621/new/results/mask_cyclegan_new/test_latest/images/0_0_dengziqi_0067_real_A.png', '/content/drive/MyDrive/CAP4621/new/results/mask_cyclegan_new/test_latest/images/0_0_dongxuan_0206_real_A.png', '/content/drive/MyDrive/CAP4621/new/results/mask_cyclegan_new/test_latest/images/0_0_duhaitao_0164_real_A.png', '/content/drive/MyDrive/CAP4621/new/results/mask_cyclegan_new/test_latest/images/0_0_fanganna_0085_real_A.png', '/content/drive/MyDrive/CAP4621/new/results/mask_cyclegan_new/test_latest/images/0_0_fanyichen_0072_real_A.png', '/content/drive/MyDrive/CAP4621/new/results/mask_cyclegan_new/test_latest/images/0_0_fanyichen_0078_real_A.png', '/content/drive/MyDrive/CAP4621/new/results/mask_cyclegan_new/test_latest/images/0_0_fanyichen_0099_real_A.png', '/content/drive/MyDrive/CAP4621/new/results/mask_cyclegan_new/test_latest/images/0_0_fengjianyu_0059_real_A.png', '/content/drive/MyDrive/CAP4621/new/results/mask_cyclegan_new/test_latest/images/0_0_zhanghuiwen_0206_real_A.png', '/content/drive/MyDrive/CAP4621/new/results/mask_cyclegan_new/test_latest/images/1_0_chenxinyu_0015_real_A.png', '/content/drive/MyDrive/CAP4621/new/results/mask_cyclegan_new/test_latest/images/1_0_daipeini_0009_real_A.png', '/content/drive/MyDrive/CAP4621/new/results/mask_cyclegan_new/test_latest/images/1_0_dongjie_0001_real_A.png', '/content/drive/MyDrive/CAP4621/new/results/mask_cyclegan_new/test_latest/images/1_0_ganwei_0001_real_A.png', '/content/drive/MyDrive/CAP4621/new/results/mask_cyclegan_new/test_latest/images/1_0_xujinglei_0008_real_A.png', '/content/drive/MyDrive/CAP4621/new/results/mask_cyclegan_new/test_latest/images/1_0_yufeng_0026_real_A.png', '/content/drive/MyDrive/CAP4621/new/results/mask_cyclegan_new/test_latest/images/1_0_yufeng_0039_real_A.png', '/content/drive/MyDrive/CAP4621/new/results/mask_cyclegan_new/test_latest/images/1_0_yufeng_0105_real_A.png', '/content/drive/MyDrive/CAP4621/new/results/mask_cyclegan_new/test_latest/images/1_0_yufeng_0155_real_A.png', '/content/drive/MyDrive/CAP4621/new/results/mask_cyclegan_new/test_latest/images/1_0_zhanghuiwen_0040_real_A.png']\n"
          ],
          "name": "stdout"
        }
      ]
    },
    {
      "cell_type": "code",
      "metadata": {
        "colab": {
          "base_uri": "https://localhost:8080/"
        },
        "id": "B0LWxAsDfMes",
        "outputId": "506638d3-a65d-4d99-bbd6-a9e6cb672efe"
      },
      "source": [
        "# slice out fake_masked[len(fake_masked)/2:]\n",
        "halfway = int(len(fake_masked)/2)\n",
        "correct = fake_masked[:halfway]\n",
        "toShuffle = fake_masked[halfway:]\n",
        "print(correct)\n",
        "print(toShuffle)"
      ],
      "execution_count": 4,
      "outputs": [
        {
          "output_type": "stream",
          "text": [
            "['/content/drive/MyDrive/CAP4621/new/results/mask_cyclegan_new/test_latest/images/0_0_chenderong_0009_fake_B.png', '/content/drive/MyDrive/CAP4621/new/results/mask_cyclegan_new/test_latest/images/0_0_chenxuedong_0017_fake_B.png', '/content/drive/MyDrive/CAP4621/new/results/mask_cyclegan_new/test_latest/images/0_0_dengziqi_0067_fake_B.png', '/content/drive/MyDrive/CAP4621/new/results/mask_cyclegan_new/test_latest/images/0_0_dongxuan_0206_fake_B.png', '/content/drive/MyDrive/CAP4621/new/results/mask_cyclegan_new/test_latest/images/0_0_duhaitao_0164_fake_B.png', '/content/drive/MyDrive/CAP4621/new/results/mask_cyclegan_new/test_latest/images/0_0_fanganna_0085_fake_B.png', '/content/drive/MyDrive/CAP4621/new/results/mask_cyclegan_new/test_latest/images/0_0_fanyichen_0072_fake_B.png', '/content/drive/MyDrive/CAP4621/new/results/mask_cyclegan_new/test_latest/images/0_0_fanyichen_0078_fake_B.png', '/content/drive/MyDrive/CAP4621/new/results/mask_cyclegan_new/test_latest/images/0_0_fanyichen_0099_fake_B.png', '/content/drive/MyDrive/CAP4621/new/results/mask_cyclegan_new/test_latest/images/0_0_fengjianyu_0059_fake_B.png']\n",
            "['/content/drive/MyDrive/CAP4621/new/results/mask_cyclegan_new/test_latest/images/0_0_zhanghuiwen_0206_fake_B.png', '/content/drive/MyDrive/CAP4621/new/results/mask_cyclegan_new/test_latest/images/1_0_chenxinyu_0015_fake_B.png', '/content/drive/MyDrive/CAP4621/new/results/mask_cyclegan_new/test_latest/images/1_0_daipeini_0009_fake_B.png', '/content/drive/MyDrive/CAP4621/new/results/mask_cyclegan_new/test_latest/images/1_0_dongjie_0001_fake_B.png', '/content/drive/MyDrive/CAP4621/new/results/mask_cyclegan_new/test_latest/images/1_0_ganwei_0001_fake_B.png', '/content/drive/MyDrive/CAP4621/new/results/mask_cyclegan_new/test_latest/images/1_0_xujinglei_0008_fake_B.png', '/content/drive/MyDrive/CAP4621/new/results/mask_cyclegan_new/test_latest/images/1_0_yufeng_0026_fake_B.png', '/content/drive/MyDrive/CAP4621/new/results/mask_cyclegan_new/test_latest/images/1_0_yufeng_0039_fake_B.png', '/content/drive/MyDrive/CAP4621/new/results/mask_cyclegan_new/test_latest/images/1_0_yufeng_0105_fake_B.png', '/content/drive/MyDrive/CAP4621/new/results/mask_cyclegan_new/test_latest/images/1_0_yufeng_0155_fake_B.png', '/content/drive/MyDrive/CAP4621/new/results/mask_cyclegan_new/test_latest/images/1_0_zhanghuiwen_0040_fake_B.png']\n"
          ],
          "name": "stdout"
        }
      ]
    },
    {
      "cell_type": "code",
      "metadata": {
        "colab": {
          "base_uri": "https://localhost:8080/"
        },
        "id": "4-4WHMyQgdd1",
        "outputId": "84b7504b-2edd-4431-d9c6-57c0d90bde19"
      },
      "source": [
        "# shuffle toShuffle\n",
        "random.shuffle(toShuffle)\n",
        "print(toShuffle)\n",
        "# concatenate correct and shuffled\n",
        "fake_masked = correct + toShuffle\n",
        "print( fake_masked)"
      ],
      "execution_count": 5,
      "outputs": [
        {
          "output_type": "stream",
          "text": [
            "['/content/drive/MyDrive/CAP4621/new/results/mask_cyclegan_new/test_latest/images/0_0_zhanghuiwen_0206_fake_B.png', '/content/drive/MyDrive/CAP4621/new/results/mask_cyclegan_new/test_latest/images/1_0_xujinglei_0008_fake_B.png', '/content/drive/MyDrive/CAP4621/new/results/mask_cyclegan_new/test_latest/images/1_0_yufeng_0039_fake_B.png', '/content/drive/MyDrive/CAP4621/new/results/mask_cyclegan_new/test_latest/images/1_0_ganwei_0001_fake_B.png', '/content/drive/MyDrive/CAP4621/new/results/mask_cyclegan_new/test_latest/images/1_0_zhanghuiwen_0040_fake_B.png', '/content/drive/MyDrive/CAP4621/new/results/mask_cyclegan_new/test_latest/images/1_0_dongjie_0001_fake_B.png', '/content/drive/MyDrive/CAP4621/new/results/mask_cyclegan_new/test_latest/images/1_0_yufeng_0026_fake_B.png', '/content/drive/MyDrive/CAP4621/new/results/mask_cyclegan_new/test_latest/images/1_0_yufeng_0105_fake_B.png', '/content/drive/MyDrive/CAP4621/new/results/mask_cyclegan_new/test_latest/images/1_0_chenxinyu_0015_fake_B.png', '/content/drive/MyDrive/CAP4621/new/results/mask_cyclegan_new/test_latest/images/1_0_yufeng_0155_fake_B.png', '/content/drive/MyDrive/CAP4621/new/results/mask_cyclegan_new/test_latest/images/1_0_daipeini_0009_fake_B.png']\n",
            "['/content/drive/MyDrive/CAP4621/new/results/mask_cyclegan_new/test_latest/images/0_0_chenderong_0009_fake_B.png', '/content/drive/MyDrive/CAP4621/new/results/mask_cyclegan_new/test_latest/images/0_0_chenxuedong_0017_fake_B.png', '/content/drive/MyDrive/CAP4621/new/results/mask_cyclegan_new/test_latest/images/0_0_dengziqi_0067_fake_B.png', '/content/drive/MyDrive/CAP4621/new/results/mask_cyclegan_new/test_latest/images/0_0_dongxuan_0206_fake_B.png', '/content/drive/MyDrive/CAP4621/new/results/mask_cyclegan_new/test_latest/images/0_0_duhaitao_0164_fake_B.png', '/content/drive/MyDrive/CAP4621/new/results/mask_cyclegan_new/test_latest/images/0_0_fanganna_0085_fake_B.png', '/content/drive/MyDrive/CAP4621/new/results/mask_cyclegan_new/test_latest/images/0_0_fanyichen_0072_fake_B.png', '/content/drive/MyDrive/CAP4621/new/results/mask_cyclegan_new/test_latest/images/0_0_fanyichen_0078_fake_B.png', '/content/drive/MyDrive/CAP4621/new/results/mask_cyclegan_new/test_latest/images/0_0_fanyichen_0099_fake_B.png', '/content/drive/MyDrive/CAP4621/new/results/mask_cyclegan_new/test_latest/images/0_0_fengjianyu_0059_fake_B.png', '/content/drive/MyDrive/CAP4621/new/results/mask_cyclegan_new/test_latest/images/0_0_zhanghuiwen_0206_fake_B.png', '/content/drive/MyDrive/CAP4621/new/results/mask_cyclegan_new/test_latest/images/1_0_xujinglei_0008_fake_B.png', '/content/drive/MyDrive/CAP4621/new/results/mask_cyclegan_new/test_latest/images/1_0_yufeng_0039_fake_B.png', '/content/drive/MyDrive/CAP4621/new/results/mask_cyclegan_new/test_latest/images/1_0_ganwei_0001_fake_B.png', '/content/drive/MyDrive/CAP4621/new/results/mask_cyclegan_new/test_latest/images/1_0_zhanghuiwen_0040_fake_B.png', '/content/drive/MyDrive/CAP4621/new/results/mask_cyclegan_new/test_latest/images/1_0_dongjie_0001_fake_B.png', '/content/drive/MyDrive/CAP4621/new/results/mask_cyclegan_new/test_latest/images/1_0_yufeng_0026_fake_B.png', '/content/drive/MyDrive/CAP4621/new/results/mask_cyclegan_new/test_latest/images/1_0_yufeng_0105_fake_B.png', '/content/drive/MyDrive/CAP4621/new/results/mask_cyclegan_new/test_latest/images/1_0_chenxinyu_0015_fake_B.png', '/content/drive/MyDrive/CAP4621/new/results/mask_cyclegan_new/test_latest/images/1_0_yufeng_0155_fake_B.png', '/content/drive/MyDrive/CAP4621/new/results/mask_cyclegan_new/test_latest/images/1_0_daipeini_0009_fake_B.png']\n"
          ],
          "name": "stdout"
        }
      ]
    },
    {
      "cell_type": "code",
      "metadata": {
        "colab": {
          "base_uri": "https://localhost:8080/"
        },
        "id": "SCpwgR2ehaI-",
        "outputId": "c121b051-232c-47e8-f9ea-6f8a8acd8e20"
      },
      "source": [
        "labels = np.array([np.array([1]) for x in range(0,halfway)] + [np.array([0]) for x in range(halfway,len(fake_masked))])\n",
        "print(labels)\n",
        "\n",
        "imgs =[]\n",
        "for i in range(0,len(fake_masked)):\n",
        "  real = cv2.imread(real_unmasked[i])\n",
        "  fake = cv2.imread(fake_masked[i])\n",
        "  new_img = cv2.hconcat([real,fake])\n",
        "  imgs.append(new_img)\n",
        "\n",
        "imgs = np.array(imgs)\n",
        "\n",
        "# print(type(imgs[0]))\n",
        "# # print(imgs)\n",
        "# for img in imgs2:\n",
        "#   print(img.shape)\n",
        "#   cv2_imshow(img)"
      ],
      "execution_count": 6,
      "outputs": [
        {
          "output_type": "stream",
          "text": [
            "[[1]\n",
            " [1]\n",
            " [1]\n",
            " [1]\n",
            " [1]\n",
            " [1]\n",
            " [1]\n",
            " [1]\n",
            " [1]\n",
            " [1]\n",
            " [0]\n",
            " [0]\n",
            " [0]\n",
            " [0]\n",
            " [0]\n",
            " [0]\n",
            " [0]\n",
            " [0]\n",
            " [0]\n",
            " [0]\n",
            " [0]]\n"
          ],
          "name": "stdout"
        }
      ]
    },
    {
      "cell_type": "code",
      "metadata": {
        "id": "8JSSNNzHkGkR"
      },
      "source": [
        "train_images, test_images, train_labels, test_labels = train_test_split(imgs,labels,test_size=0.2)"
      ],
      "execution_count": 9,
      "outputs": []
    },
    {
      "cell_type": "code",
      "metadata": {
        "colab": {
          "base_uri": "https://localhost:8080/"
        },
        "id": "5SGSZH-U2OSR",
        "outputId": "d574e3fc-65fa-4bc7-d5bb-9912cfeec007"
      },
      "source": [
        "# train_images.shape\n",
        "# print(train_labels.shape)\n",
        "train_labels"
      ],
      "execution_count": 10,
      "outputs": [
        {
          "output_type": "execute_result",
          "data": {
            "text/plain": [
              "array([[0],\n",
              "       [0],\n",
              "       [0],\n",
              "       [1],\n",
              "       [1],\n",
              "       [1],\n",
              "       [0],\n",
              "       [1],\n",
              "       [1],\n",
              "       [1],\n",
              "       [0],\n",
              "       [0],\n",
              "       [1],\n",
              "       [0],\n",
              "       [0],\n",
              "       [0]])"
            ]
          },
          "metadata": {
            "tags": []
          },
          "execution_count": 10
        }
      ]
    },
    {
      "cell_type": "code",
      "metadata": {
        "id": "dQv-R7hbnrNL"
      },
      "source": [
        "# # TODO: pandas dataframe of \n",
        "# imgs =[]\n",
        "# for i in range(0,len(fake_masked)):\n",
        "#   real = cv2.imread(fake_unmasked[i])\n",
        "#   fake = cv2.imread(real_masked[i])\n",
        "#   new_img = cv2.hconcat([real,fake])\n",
        "#   imgs.append(new_img)\n",
        "\n",
        "# print(type(imgs[0]))\n",
        "# # print(imgs)\n",
        "# for img in imgs:\n",
        "#   print(img.shape)\n",
        "#   cv2_imshow(img)"
      ],
      "execution_count": 25,
      "outputs": []
    },
    {
      "cell_type": "code",
      "metadata": {
        "id": "D5kCrD8dgPMt"
      },
      "source": [
        "discriminator = models.Sequential()\n",
        "# 32 filters, (3x3) kernel size, relu activation, input shape of (256,512,3)\n",
        "discriminator.add(layers.Conv2D(32,(3,3),activation='relu',input_shape=(256,512,3))) \n",
        "discriminator.add(layers.MaxPooling2D((2,2)))\n",
        "discriminator.add(layers.Conv2D(64,(3,3),activation='relu'))\n",
        "discriminator.add(layers.MaxPooling2D((2,2)))\n",
        "discriminator.add(layers.Conv2D(64,(3,3),activation='relu'))\n",
        "\n",
        "discriminator.add(layers.Flatten())\n",
        "discriminator.add(layers.Dense(64,activation='relu'))\n",
        "discriminator.add(layers.Dense(2))"
      ],
      "execution_count": 11,
      "outputs": []
    },
    {
      "cell_type": "code",
      "metadata": {
        "colab": {
          "base_uri": "https://localhost:8080/"
        },
        "id": "SS2YSEbuhXgy",
        "outputId": "832acb1f-6c6b-4004-cbd4-628074cf67a4"
      },
      "source": [
        "discriminator.summary()"
      ],
      "execution_count": 12,
      "outputs": [
        {
          "output_type": "stream",
          "text": [
            "Model: \"sequential\"\n",
            "_________________________________________________________________\n",
            "Layer (type)                 Output Shape              Param #   \n",
            "=================================================================\n",
            "conv2d (Conv2D)              (None, 254, 510, 32)      896       \n",
            "_________________________________________________________________\n",
            "max_pooling2d (MaxPooling2D) (None, 127, 255, 32)      0         \n",
            "_________________________________________________________________\n",
            "conv2d_1 (Conv2D)            (None, 125, 253, 64)      18496     \n",
            "_________________________________________________________________\n",
            "max_pooling2d_1 (MaxPooling2 (None, 62, 126, 64)       0         \n",
            "_________________________________________________________________\n",
            "conv2d_2 (Conv2D)            (None, 60, 124, 64)       36928     \n",
            "_________________________________________________________________\n",
            "flatten (Flatten)            (None, 476160)            0         \n",
            "_________________________________________________________________\n",
            "dense (Dense)                (None, 64)                30474304  \n",
            "_________________________________________________________________\n",
            "dense_1 (Dense)              (None, 2)                 130       \n",
            "=================================================================\n",
            "Total params: 30,530,754\n",
            "Trainable params: 30,530,754\n",
            "Non-trainable params: 0\n",
            "_________________________________________________________________\n"
          ],
          "name": "stdout"
        }
      ]
    },
    {
      "cell_type": "code",
      "metadata": {
        "id": "KTSTxNcDhwvs",
        "colab": {
          "base_uri": "https://localhost:8080/"
        },
        "outputId": "a1da41a4-96e1-49ce-8d64-2eb3baeef6d9"
      },
      "source": [
        "# attempt to compile and train\n",
        "discriminator.compile(optimizer='adam',loss=tf.keras.losses.SparseCategoricalCrossentropy(from_logits=True),\n",
        "                      metrics=['accuracy'])\n",
        "\n",
        "results = discriminator.fit(train_images,train_labels,epochs=5,validation_data =(test_images,test_labels)) #need to populate this data"
      ],
      "execution_count": 13,
      "outputs": [
        {
          "output_type": "stream",
          "text": [
            "Epoch 1/5\n",
            "1/1 [==============================] - 0s 444ms/step - loss: 5.3365 - accuracy: 0.5625 - val_loss: 3212.7905 - val_accuracy: 0.6000\n",
            "Epoch 2/5\n",
            "1/1 [==============================] - 0s 308ms/step - loss: 4122.1665 - accuracy: 0.4375 - val_loss: 173.7910 - val_accuracy: 0.6000\n",
            "Epoch 3/5\n",
            "1/1 [==============================] - 0s 298ms/step - loss: 197.0823 - accuracy: 0.4375 - val_loss: 1154.0398 - val_accuracy: 0.4000\n",
            "Epoch 4/5\n",
            "1/1 [==============================] - 0s 307ms/step - loss: 774.5442 - accuracy: 0.5625 - val_loss: 396.8180 - val_accuracy: 0.4000\n",
            "Epoch 5/5\n",
            "1/1 [==============================] - 0s 302ms/step - loss: 270.1928 - accuracy: 0.5625 - val_loss: 67.3109 - val_accuracy: 0.4000\n"
          ],
          "name": "stdout"
        }
      ]
    },
    {
      "cell_type": "code",
      "metadata": {
        "colab": {
          "base_uri": "https://localhost:8080/",
          "height": 301
        },
        "id": "fhuQ-ruvyWu8",
        "outputId": "2323df2b-9481-4dc6-9a27-8def3cd11f14"
      },
      "source": [
        "plt.plot(results.history['accuracy'], label='accuracy')\n",
        "plt.plot(results.history['val_accuracy'], label = 'val_accuracy')\n",
        "plt.xlabel('Epoch')\n",
        "plt.ylabel('Accuracy')\n",
        "plt.ylim([0.5, 1])\n",
        "plt.legend(loc='lower right')\n",
        "\n",
        "test_loss, test_acc = discriminator.evaluate(test_images,  test_labels, verbose=2)"
      ],
      "execution_count": 16,
      "outputs": [
        {
          "output_type": "stream",
          "text": [
            "1/1 - 0s - loss: 67.3109 - accuracy: 0.4000\n"
          ],
          "name": "stdout"
        },
        {
          "output_type": "display_data",
          "data": {
            "image/png": "[encoded data removed]",
            "text/plain": [
              "<Figure size 432x288 with 1 Axes>"
            ]
          },
          "metadata": {
            "tags": [],
            "needs_background": "light"
          }
        }
      ]
    }
  ]
}